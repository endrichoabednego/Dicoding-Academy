{
  "nbformat": 4,
  "nbformat_minor": 0,
  "metadata": {
    "colab": {
      "provenance": []
    },
    "kernelspec": {
      "name": "python3",
      "display_name": "Python 3"
    },
    "language_info": {
      "name": "python"
    },
    "gpuClass": "standard"
  },
  "cells": [
    {
      "cell_type": "markdown",
      "source": [
        "Submission Proyek Akhir : Membuat Model Sistem Rekomendasi\n",
        "\n",
        "---\n",
        "\n",
        "\n",
        "Modul : Machine Learning Terapan\n",
        "\n",
        "---\n",
        "\n",
        "\n",
        "Nama / ID Dicoding : Endricho Abednego / M239X0468\n",
        "\n",
        "\n",
        "\n"
      ],
      "metadata": {
        "id": "ZApZ9uKoWaal"
      }
    },
    {
      "cell_type": "markdown",
      "source": [
        "## Import Library\n",
        "Melakukan import library yang berguna untuk memanggil fungsi-fungsi yang diperlukan untuk algoritma model "
      ],
      "metadata": {
        "id": "so7clcbhUdOi"
      }
    },
    {
      "cell_type": "code",
      "execution_count": 2,
      "metadata": {
        "id": "O26SYDez-r6q"
      },
      "outputs": [],
      "source": [
        "import numpy as np\n",
        "import pandas as pd\n",
        "import matplotlib.pyplot as plt\n",
        "import warnings\n",
        "warnings.filterwarnings('ignore')\n",
        "import ast\n",
        "import nltk \n",
        "from nltk.stem import PorterStemmer,WordNetLemmatizer\n",
        "from sklearn.feature_extraction.text import CountVectorizer, TfidfVectorizer\n",
        "import matplotlib.pyplot as plt\n",
        "from sklearn.metrics.pairwise import cosine_similarity\n"
      ]
    },
    {
      "cell_type": "code",
      "source": [
        "! pip install kaggle\n",
        "! mkdir ~/.kaggle \n",
        "! cp kaggle.json ~/.kaggle/\n",
        "! chmod 600 ~/.kaggle/kaggle.json"
      ],
      "metadata": {
        "colab": {
          "base_uri": "https://localhost:8080/"
        },
        "id": "9RqomL5K--cp",
        "outputId": "e99b1c7b-f632-42a3-9397-0b54ed07cbc2"
      },
      "execution_count": 3,
      "outputs": [
        {
          "output_type": "stream",
          "name": "stdout",
          "text": [
            "Looking in indexes: https://pypi.org/simple, https://us-python.pkg.dev/colab-wheels/public/simple/\n",
            "Requirement already satisfied: kaggle in /usr/local/lib/python3.8/dist-packages (1.5.12)\n",
            "Requirement already satisfied: urllib3 in /usr/local/lib/python3.8/dist-packages (from kaggle) (1.24.3)\n",
            "Requirement already satisfied: python-dateutil in /usr/local/lib/python3.8/dist-packages (from kaggle) (2.8.2)\n",
            "Requirement already satisfied: six>=1.10 in /usr/local/lib/python3.8/dist-packages (from kaggle) (1.15.0)\n",
            "Requirement already satisfied: python-slugify in /usr/local/lib/python3.8/dist-packages (from kaggle) (7.0.0)\n",
            "Requirement already satisfied: tqdm in /usr/local/lib/python3.8/dist-packages (from kaggle) (4.64.1)\n",
            "Requirement already satisfied: certifi in /usr/local/lib/python3.8/dist-packages (from kaggle) (2022.9.24)\n",
            "Requirement already satisfied: requests in /usr/local/lib/python3.8/dist-packages (from kaggle) (2.23.0)\n",
            "Requirement already satisfied: text-unidecode>=1.3 in /usr/local/lib/python3.8/dist-packages (from python-slugify->kaggle) (1.3)\n",
            "Requirement already satisfied: idna<3,>=2.5 in /usr/local/lib/python3.8/dist-packages (from requests->kaggle) (2.10)\n",
            "Requirement already satisfied: chardet<4,>=3.0.2 in /usr/local/lib/python3.8/dist-packages (from requests->kaggle) (3.0.4)\n"
          ]
        }
      ]
    },
    {
      "cell_type": "markdown",
      "source": [
        "##Zip Extraction \n",
        "Dataset di yang telah di install masih berupa zip, sehingga diperlukan zip extraction supaya dapat dibaca oleh sistem."
      ],
      "metadata": {
        "id": "_EcSw695zJri"
      }
    },
    {
      "cell_type": "code",
      "source": [
        "! kaggle datasets download gazu468/tmdb-10000-movies-dataset"
      ],
      "metadata": {
        "colab": {
          "base_uri": "https://localhost:8080/"
        },
        "id": "z0M4UQw6_AaY",
        "outputId": "4de34205-e238-4aea-f19a-91d2c6e328a3"
      },
      "execution_count": 4,
      "outputs": [
        {
          "output_type": "stream",
          "name": "stdout",
          "text": [
            "Downloading tmdb-10000-movies-dataset.zip to /content\n",
            " 84% 40.0M/47.9M [00:00<00:00, 150MB/s]\n",
            "100% 47.9M/47.9M [00:00<00:00, 143MB/s]\n"
          ]
        }
      ]
    },
    {
      "cell_type": "code",
      "source": [
        "! unzip tmdb-10000-movies-dataset.zip"
      ],
      "metadata": {
        "colab": {
          "base_uri": "https://localhost:8080/"
        },
        "id": "GQbwqBEf_wop",
        "outputId": "afb67032-8a2c-4abf-cf6d-e35276efd4fc"
      },
      "execution_count": 5,
      "outputs": [
        {
          "output_type": "stream",
          "name": "stdout",
          "text": [
            "Archive:  tmdb-10000-movies-dataset.zip\n",
            "  inflating: 10000 Credits Data      \n",
            "  inflating: 10000 Movies Data       \n",
            "  inflating: __notebook_source__.ipynb  \n"
          ]
        }
      ]
    },
    {
      "cell_type": "markdown",
      "source": [
        "## Load Dataset\n",
        "Setelah dataset telah di unzip dan terekstrasi maka dataset perlu di load ke dalam memori dengan pembacaan file. "
      ],
      "metadata": {
        "id": "0EJ2MhE1y0cp"
      }
    },
    {
      "cell_type": "code",
      "source": [
        "film = pd.read_csv(\"/content/10000 Movies Data\")\n",
        "dataFilm = pd.read_csv(\"/content/10000 Movies Data\")\n",
        "kredit = pd .read_csv(\"/content/10000 Credits Data\")"
      ],
      "metadata": {
        "id": "zB7fAzvBAF04"
      },
      "execution_count": 63,
      "outputs": []
    },
    {
      "cell_type": "code",
      "source": [
        "kredit.drop(\"title\",axis=1, inplace=True)\n"
      ],
      "metadata": {
        "id": "l4Nhvq67_12v"
      },
      "execution_count": 64,
      "outputs": []
    },
    {
      "cell_type": "markdown",
      "source": [
        "##File Merge Dataset\n",
        "Perlu dilakukan merge dataset untuk pengolahan data karena pada dataset ini terdaat 2 files yaitu 10000 Movies Data dan 10000 Credits Data dengan menggunakan fungsi merge()"
      ],
      "metadata": {
        "id": "R0xrBE3sy6Rp"
      }
    },
    {
      "cell_type": "code",
      "source": [
        "film=film.merge(kredit, on=\"Movie_id\")"
      ],
      "metadata": {
        "id": "kQoYeyAGA_DA"
      },
      "execution_count": 65,
      "outputs": []
    },
    {
      "cell_type": "code",
      "source": [
        "film.head(5)\n"
      ],
      "metadata": {
        "colab": {
          "base_uri": "https://localhost:8080/",
          "height": 441
        },
        "id": "vKr8W48cBF1i",
        "outputId": "5313c554-5628-4d9f-b9ef-832b11525e41"
      },
      "execution_count": 66,
      "outputs": [
        {
          "output_type": "execute_result",
          "data": {
            "text/plain": [
              "   Unnamed: 0_x  Movie_id                        title  \\\n",
              "0             0       238                The Godfather   \n",
              "1             1       278     The Shawshank Redemption   \n",
              "2             2       240        The Godfather Part II   \n",
              "3             3     19404  Dilwale Dulhania Le Jayenge   \n",
              "4             4       424             Schindler's List   \n",
              "\n",
              "                                              Genres release_date  \\\n",
              "0  [{'id': 18, 'name': 'Drama'}, {'id': 80, 'name...   1972-03-14   \n",
              "1  [{'id': 18, 'name': 'Drama'}, {'id': 80, 'name...   1994-09-23   \n",
              "2  [{'id': 18, 'name': 'Drama'}, {'id': 80, 'name...   1974-12-20   \n",
              "3  [{'id': 35, 'name': 'Comedy'}, {'id': 18, 'nam...   1995-10-19   \n",
              "4  [{'id': 18, 'name': 'Drama'}, {'id': 36, 'name...   1993-12-15   \n",
              "\n",
              "                                            Keywords  \\\n",
              "0  [{'id': 131, 'name': 'italy'}, {'id': 697, 'na...   \n",
              "1  [{'id': 378, 'name': 'prison'}, {'id': 417, 'n...   \n",
              "2  [{'id': 131, 'name': 'italy'}, {'id': 700, 'na...   \n",
              "3                                                 []   \n",
              "4  [{'id': 818, 'name': 'based on novel or book'}...   \n",
              "\n",
              "                                            overview  \\\n",
              "0  Spanning the years 1945 to 1955, a chronicle o...   \n",
              "1  Framed in the 1940s for the double murder of h...   \n",
              "2  In the continuing saga of the Corleone crime f...   \n",
              "3  Raj is a rich, carefree, happy-go-lucky second...   \n",
              "4  The true story of how businessman Oskar Schind...   \n",
              "\n",
              "                        poster_path     Budget    Revenue  popularity  \\\n",
              "0  /3bhkrj58Vtu7enYsRolD1fZdja1.jpg  245066411  245066411      93.552   \n",
              "1  /q6y0Go1tsGEsmtFryDOJo3dEmqu.jpg   28341469   28341469      78.664   \n",
              "2  /hek3koDUyRQk7FIhPXsa6mT2Zc3.jpg  102600000  102600000      55.752   \n",
              "3  /2CAL2433ZeIihfX1Hb2139CX0pW.jpg  100000000  100000000      22.150   \n",
              "4  /sF1U4EUQS8YHUYjNl3pMGNIQyr0.jpg  321365567  321365567      53.542   \n",
              "\n",
              "   vote_average  vote_count  Unnamed: 0_y  \\\n",
              "0           8.7       16814             0   \n",
              "1           8.7       22542             1   \n",
              "2           8.6       10187             2   \n",
              "3           8.6        3927             3   \n",
              "4           8.6       13382             4   \n",
              "\n",
              "                                                Cast  \\\n",
              "0  [{'adult': False, 'gender': 2, 'id': 3084, 'kn...   \n",
              "1  [{'adult': False, 'gender': 2, 'id': 504, 'kno...   \n",
              "2  [{'adult': False, 'gender': 2, 'id': 1158, 'kn...   \n",
              "3  [{'adult': False, 'gender': 2, 'id': 35742, 'k...   \n",
              "4  [{'adult': False, 'gender': 2, 'id': 3896, 'kn...   \n",
              "\n",
              "                                                Crew  \n",
              "0  [{'adult': False, 'gender': 2, 'id': 154, 'kno...  \n",
              "1  [{'adult': False, 'gender': 2, 'id': 153, 'kno...  \n",
              "2  [{'adult': False, 'gender': 2, 'id': 154, 'kno...  \n",
              "3  [{'adult': False, 'gender': 1, 'id': 8311, 'kn...  \n",
              "4  [{'adult': False, 'gender': 2, 'id': 491, 'kno...  "
            ],
            "text/html": [
              "\n",
              "  <div id=\"df-21e12e39-2bd3-4e79-82a8-6ea9054b4c9b\">\n",
              "    <div class=\"colab-df-container\">\n",
              "      <div>\n",
              "<style scoped>\n",
              "    .dataframe tbody tr th:only-of-type {\n",
              "        vertical-align: middle;\n",
              "    }\n",
              "\n",
              "    .dataframe tbody tr th {\n",
              "        vertical-align: top;\n",
              "    }\n",
              "\n",
              "    .dataframe thead th {\n",
              "        text-align: right;\n",
              "    }\n",
              "</style>\n",
              "<table border=\"1\" class=\"dataframe\">\n",
              "  <thead>\n",
              "    <tr style=\"text-align: right;\">\n",
              "      <th></th>\n",
              "      <th>Unnamed: 0_x</th>\n",
              "      <th>Movie_id</th>\n",
              "      <th>title</th>\n",
              "      <th>Genres</th>\n",
              "      <th>release_date</th>\n",
              "      <th>Keywords</th>\n",
              "      <th>overview</th>\n",
              "      <th>poster_path</th>\n",
              "      <th>Budget</th>\n",
              "      <th>Revenue</th>\n",
              "      <th>popularity</th>\n",
              "      <th>vote_average</th>\n",
              "      <th>vote_count</th>\n",
              "      <th>Unnamed: 0_y</th>\n",
              "      <th>Cast</th>\n",
              "      <th>Crew</th>\n",
              "    </tr>\n",
              "  </thead>\n",
              "  <tbody>\n",
              "    <tr>\n",
              "      <th>0</th>\n",
              "      <td>0</td>\n",
              "      <td>238</td>\n",
              "      <td>The Godfather</td>\n",
              "      <td>[{'id': 18, 'name': 'Drama'}, {'id': 80, 'name...</td>\n",
              "      <td>1972-03-14</td>\n",
              "      <td>[{'id': 131, 'name': 'italy'}, {'id': 697, 'na...</td>\n",
              "      <td>Spanning the years 1945 to 1955, a chronicle o...</td>\n",
              "      <td>/3bhkrj58Vtu7enYsRolD1fZdja1.jpg</td>\n",
              "      <td>245066411</td>\n",
              "      <td>245066411</td>\n",
              "      <td>93.552</td>\n",
              "      <td>8.7</td>\n",
              "      <td>16814</td>\n",
              "      <td>0</td>\n",
              "      <td>[{'adult': False, 'gender': 2, 'id': 3084, 'kn...</td>\n",
              "      <td>[{'adult': False, 'gender': 2, 'id': 154, 'kno...</td>\n",
              "    </tr>\n",
              "    <tr>\n",
              "      <th>1</th>\n",
              "      <td>1</td>\n",
              "      <td>278</td>\n",
              "      <td>The Shawshank Redemption</td>\n",
              "      <td>[{'id': 18, 'name': 'Drama'}, {'id': 80, 'name...</td>\n",
              "      <td>1994-09-23</td>\n",
              "      <td>[{'id': 378, 'name': 'prison'}, {'id': 417, 'n...</td>\n",
              "      <td>Framed in the 1940s for the double murder of h...</td>\n",
              "      <td>/q6y0Go1tsGEsmtFryDOJo3dEmqu.jpg</td>\n",
              "      <td>28341469</td>\n",
              "      <td>28341469</td>\n",
              "      <td>78.664</td>\n",
              "      <td>8.7</td>\n",
              "      <td>22542</td>\n",
              "      <td>1</td>\n",
              "      <td>[{'adult': False, 'gender': 2, 'id': 504, 'kno...</td>\n",
              "      <td>[{'adult': False, 'gender': 2, 'id': 153, 'kno...</td>\n",
              "    </tr>\n",
              "    <tr>\n",
              "      <th>2</th>\n",
              "      <td>2</td>\n",
              "      <td>240</td>\n",
              "      <td>The Godfather Part II</td>\n",
              "      <td>[{'id': 18, 'name': 'Drama'}, {'id': 80, 'name...</td>\n",
              "      <td>1974-12-20</td>\n",
              "      <td>[{'id': 131, 'name': 'italy'}, {'id': 700, 'na...</td>\n",
              "      <td>In the continuing saga of the Corleone crime f...</td>\n",
              "      <td>/hek3koDUyRQk7FIhPXsa6mT2Zc3.jpg</td>\n",
              "      <td>102600000</td>\n",
              "      <td>102600000</td>\n",
              "      <td>55.752</td>\n",
              "      <td>8.6</td>\n",
              "      <td>10187</td>\n",
              "      <td>2</td>\n",
              "      <td>[{'adult': False, 'gender': 2, 'id': 1158, 'kn...</td>\n",
              "      <td>[{'adult': False, 'gender': 2, 'id': 154, 'kno...</td>\n",
              "    </tr>\n",
              "    <tr>\n",
              "      <th>3</th>\n",
              "      <td>3</td>\n",
              "      <td>19404</td>\n",
              "      <td>Dilwale Dulhania Le Jayenge</td>\n",
              "      <td>[{'id': 35, 'name': 'Comedy'}, {'id': 18, 'nam...</td>\n",
              "      <td>1995-10-19</td>\n",
              "      <td>[]</td>\n",
              "      <td>Raj is a rich, carefree, happy-go-lucky second...</td>\n",
              "      <td>/2CAL2433ZeIihfX1Hb2139CX0pW.jpg</td>\n",
              "      <td>100000000</td>\n",
              "      <td>100000000</td>\n",
              "      <td>22.150</td>\n",
              "      <td>8.6</td>\n",
              "      <td>3927</td>\n",
              "      <td>3</td>\n",
              "      <td>[{'adult': False, 'gender': 2, 'id': 35742, 'k...</td>\n",
              "      <td>[{'adult': False, 'gender': 1, 'id': 8311, 'kn...</td>\n",
              "    </tr>\n",
              "    <tr>\n",
              "      <th>4</th>\n",
              "      <td>4</td>\n",
              "      <td>424</td>\n",
              "      <td>Schindler's List</td>\n",
              "      <td>[{'id': 18, 'name': 'Drama'}, {'id': 36, 'name...</td>\n",
              "      <td>1993-12-15</td>\n",
              "      <td>[{'id': 818, 'name': 'based on novel or book'}...</td>\n",
              "      <td>The true story of how businessman Oskar Schind...</td>\n",
              "      <td>/sF1U4EUQS8YHUYjNl3pMGNIQyr0.jpg</td>\n",
              "      <td>321365567</td>\n",
              "      <td>321365567</td>\n",
              "      <td>53.542</td>\n",
              "      <td>8.6</td>\n",
              "      <td>13382</td>\n",
              "      <td>4</td>\n",
              "      <td>[{'adult': False, 'gender': 2, 'id': 3896, 'kn...</td>\n",
              "      <td>[{'adult': False, 'gender': 2, 'id': 491, 'kno...</td>\n",
              "    </tr>\n",
              "  </tbody>\n",
              "</table>\n",
              "</div>\n",
              "      <button class=\"colab-df-convert\" onclick=\"convertToInteractive('df-21e12e39-2bd3-4e79-82a8-6ea9054b4c9b')\"\n",
              "              title=\"Convert this dataframe to an interactive table.\"\n",
              "              style=\"display:none;\">\n",
              "        \n",
              "  <svg xmlns=\"http://www.w3.org/2000/svg\" height=\"24px\"viewBox=\"0 0 24 24\"\n",
              "       width=\"24px\">\n",
              "    <path d=\"M0 0h24v24H0V0z\" fill=\"none\"/>\n",
              "    <path d=\"M18.56 5.44l.94 2.06.94-2.06 2.06-.94-2.06-.94-.94-2.06-.94 2.06-2.06.94zm-11 1L8.5 8.5l.94-2.06 2.06-.94-2.06-.94L8.5 2.5l-.94 2.06-2.06.94zm10 10l.94 2.06.94-2.06 2.06-.94-2.06-.94-.94-2.06-.94 2.06-2.06.94z\"/><path d=\"M17.41 7.96l-1.37-1.37c-.4-.4-.92-.59-1.43-.59-.52 0-1.04.2-1.43.59L10.3 9.45l-7.72 7.72c-.78.78-.78 2.05 0 2.83L4 21.41c.39.39.9.59 1.41.59.51 0 1.02-.2 1.41-.59l7.78-7.78 2.81-2.81c.8-.78.8-2.07 0-2.86zM5.41 20L4 18.59l7.72-7.72 1.47 1.35L5.41 20z\"/>\n",
              "  </svg>\n",
              "      </button>\n",
              "      \n",
              "  <style>\n",
              "    .colab-df-container {\n",
              "      display:flex;\n",
              "      flex-wrap:wrap;\n",
              "      gap: 12px;\n",
              "    }\n",
              "\n",
              "    .colab-df-convert {\n",
              "      background-color: #E8F0FE;\n",
              "      border: none;\n",
              "      border-radius: 50%;\n",
              "      cursor: pointer;\n",
              "      display: none;\n",
              "      fill: #1967D2;\n",
              "      height: 32px;\n",
              "      padding: 0 0 0 0;\n",
              "      width: 32px;\n",
              "    }\n",
              "\n",
              "    .colab-df-convert:hover {\n",
              "      background-color: #E2EBFA;\n",
              "      box-shadow: 0px 1px 2px rgba(60, 64, 67, 0.3), 0px 1px 3px 1px rgba(60, 64, 67, 0.15);\n",
              "      fill: #174EA6;\n",
              "    }\n",
              "\n",
              "    [theme=dark] .colab-df-convert {\n",
              "      background-color: #3B4455;\n",
              "      fill: #D2E3FC;\n",
              "    }\n",
              "\n",
              "    [theme=dark] .colab-df-convert:hover {\n",
              "      background-color: #434B5C;\n",
              "      box-shadow: 0px 1px 3px 1px rgba(0, 0, 0, 0.15);\n",
              "      filter: drop-shadow(0px 1px 2px rgba(0, 0, 0, 0.3));\n",
              "      fill: #FFFFFF;\n",
              "    }\n",
              "  </style>\n",
              "\n",
              "      <script>\n",
              "        const buttonEl =\n",
              "          document.querySelector('#df-21e12e39-2bd3-4e79-82a8-6ea9054b4c9b button.colab-df-convert');\n",
              "        buttonEl.style.display =\n",
              "          google.colab.kernel.accessAllowed ? 'block' : 'none';\n",
              "\n",
              "        async function convertToInteractive(key) {\n",
              "          const element = document.querySelector('#df-21e12e39-2bd3-4e79-82a8-6ea9054b4c9b');\n",
              "          const dataTable =\n",
              "            await google.colab.kernel.invokeFunction('convertToInteractive',\n",
              "                                                     [key], {});\n",
              "          if (!dataTable) return;\n",
              "\n",
              "          const docLinkHtml = 'Like what you see? Visit the ' +\n",
              "            '<a target=\"_blank\" href=https://colab.research.google.com/notebooks/data_table.ipynb>data table notebook</a>'\n",
              "            + ' to learn more about interactive tables.';\n",
              "          element.innerHTML = '';\n",
              "          dataTable['output_type'] = 'display_data';\n",
              "          await google.colab.output.renderOutput(dataTable, element);\n",
              "          const docLink = document.createElement('div');\n",
              "          docLink.innerHTML = docLinkHtml;\n",
              "          element.appendChild(docLink);\n",
              "        }\n",
              "      </script>\n",
              "    </div>\n",
              "  </div>\n",
              "  "
            ]
          },
          "metadata": {},
          "execution_count": 66
        }
      ]
    },
    {
      "cell_type": "code",
      "source": [
        "film=film[['Movie_id','title','Genres',\"Keywords\",'overview','Cast','Crew']]\n"
      ],
      "metadata": {
        "id": "Kesru7LZBHNo"
      },
      "execution_count": 67,
      "outputs": []
    },
    {
      "cell_type": "code",
      "source": [
        "film.isnull().sum()"
      ],
      "metadata": {
        "colab": {
          "base_uri": "https://localhost:8080/"
        },
        "id": "72nexjfRBUsg",
        "outputId": "c0fa250d-fb4f-4d49-bcd2-3607c5968967"
      },
      "execution_count": 68,
      "outputs": [
        {
          "output_type": "execute_result",
          "data": {
            "text/plain": [
              "Movie_id    0\n",
              "title       0\n",
              "Genres      0\n",
              "Keywords    0\n",
              "overview    6\n",
              "Cast        0\n",
              "Crew        0\n",
              "dtype: int64"
            ]
          },
          "metadata": {},
          "execution_count": 68
        }
      ]
    },
    {
      "cell_type": "markdown",
      "source": [
        "#Menghilangakan data yang bernilai Null"
      ],
      "metadata": {
        "id": "mILFyRIs0UIA"
      }
    },
    {
      "cell_type": "code",
      "source": [
        "film.dropna(inplace=True)\n",
        "film.duplicated().sum()"
      ],
      "metadata": {
        "colab": {
          "base_uri": "https://localhost:8080/"
        },
        "id": "SCo38x0WBjbw",
        "outputId": "89db645e-bb68-44b1-9a47-01e6c70b3356"
      },
      "execution_count": 69,
      "outputs": [
        {
          "output_type": "execute_result",
          "data": {
            "text/plain": [
              "0"
            ]
          },
          "metadata": {},
          "execution_count": 69
        }
      ]
    },
    {
      "cell_type": "markdown",
      "source": [
        "#Melakukan convert string menjadi list"
      ],
      "metadata": {
        "id": "DGzNttaJ1VOO"
      }
    },
    {
      "cell_type": "code",
      "source": [
        "ast.literal_eval"
      ],
      "metadata": {
        "colab": {
          "base_uri": "https://localhost:8080/"
        },
        "id": "dsjSBQhDBm92",
        "outputId": "7e824410-9f15-40f3-c6f7-f64941b2d863"
      },
      "execution_count": 70,
      "outputs": [
        {
          "output_type": "execute_result",
          "data": {
            "text/plain": [
              "<function ast.literal_eval(node_or_string)>"
            ]
          },
          "metadata": {},
          "execution_count": 70
        }
      ]
    },
    {
      "cell_type": "code",
      "source": [
        "def convertString1(obj):\n",
        "    L =[]\n",
        "    for i in ast.literal_eval(obj):\n",
        "        L.append(i['name'])\n",
        "    return L"
      ],
      "metadata": {
        "id": "ET3biDkvDyRA"
      },
      "execution_count": 71,
      "outputs": []
    },
    {
      "cell_type": "code",
      "source": [
        "film['Genres'] = film['Genres'].apply(convertString1)\n",
        "film.head()"
      ],
      "metadata": {
        "colab": {
          "base_uri": "https://localhost:8080/",
          "height": 206
        },
        "id": "hHZVlObvD0ha",
        "outputId": "c9fd8999-666c-4a15-abac-f5b2d389bf54"
      },
      "execution_count": 72,
      "outputs": [
        {
          "output_type": "execute_result",
          "data": {
            "text/plain": [
              "   Movie_id                        title                    Genres  \\\n",
              "0       238                The Godfather            [Drama, Crime]   \n",
              "1       278     The Shawshank Redemption            [Drama, Crime]   \n",
              "2       240        The Godfather Part II            [Drama, Crime]   \n",
              "3     19404  Dilwale Dulhania Le Jayenge  [Comedy, Drama, Romance]   \n",
              "4       424             Schindler's List     [Drama, History, War]   \n",
              "\n",
              "                                            Keywords  \\\n",
              "0  [{'id': 131, 'name': 'italy'}, {'id': 697, 'na...   \n",
              "1  [{'id': 378, 'name': 'prison'}, {'id': 417, 'n...   \n",
              "2  [{'id': 131, 'name': 'italy'}, {'id': 700, 'na...   \n",
              "3                                                 []   \n",
              "4  [{'id': 818, 'name': 'based on novel or book'}...   \n",
              "\n",
              "                                            overview  \\\n",
              "0  Spanning the years 1945 to 1955, a chronicle o...   \n",
              "1  Framed in the 1940s for the double murder of h...   \n",
              "2  In the continuing saga of the Corleone crime f...   \n",
              "3  Raj is a rich, carefree, happy-go-lucky second...   \n",
              "4  The true story of how businessman Oskar Schind...   \n",
              "\n",
              "                                                Cast  \\\n",
              "0  [{'adult': False, 'gender': 2, 'id': 3084, 'kn...   \n",
              "1  [{'adult': False, 'gender': 2, 'id': 504, 'kno...   \n",
              "2  [{'adult': False, 'gender': 2, 'id': 1158, 'kn...   \n",
              "3  [{'adult': False, 'gender': 2, 'id': 35742, 'k...   \n",
              "4  [{'adult': False, 'gender': 2, 'id': 3896, 'kn...   \n",
              "\n",
              "                                                Crew  \n",
              "0  [{'adult': False, 'gender': 2, 'id': 154, 'kno...  \n",
              "1  [{'adult': False, 'gender': 2, 'id': 153, 'kno...  \n",
              "2  [{'adult': False, 'gender': 2, 'id': 154, 'kno...  \n",
              "3  [{'adult': False, 'gender': 1, 'id': 8311, 'kn...  \n",
              "4  [{'adult': False, 'gender': 2, 'id': 491, 'kno...  "
            ],
            "text/html": [
              "\n",
              "  <div id=\"df-e351f20b-552d-459f-b10f-fbb422653c5c\">\n",
              "    <div class=\"colab-df-container\">\n",
              "      <div>\n",
              "<style scoped>\n",
              "    .dataframe tbody tr th:only-of-type {\n",
              "        vertical-align: middle;\n",
              "    }\n",
              "\n",
              "    .dataframe tbody tr th {\n",
              "        vertical-align: top;\n",
              "    }\n",
              "\n",
              "    .dataframe thead th {\n",
              "        text-align: right;\n",
              "    }\n",
              "</style>\n",
              "<table border=\"1\" class=\"dataframe\">\n",
              "  <thead>\n",
              "    <tr style=\"text-align: right;\">\n",
              "      <th></th>\n",
              "      <th>Movie_id</th>\n",
              "      <th>title</th>\n",
              "      <th>Genres</th>\n",
              "      <th>Keywords</th>\n",
              "      <th>overview</th>\n",
              "      <th>Cast</th>\n",
              "      <th>Crew</th>\n",
              "    </tr>\n",
              "  </thead>\n",
              "  <tbody>\n",
              "    <tr>\n",
              "      <th>0</th>\n",
              "      <td>238</td>\n",
              "      <td>The Godfather</td>\n",
              "      <td>[Drama, Crime]</td>\n",
              "      <td>[{'id': 131, 'name': 'italy'}, {'id': 697, 'na...</td>\n",
              "      <td>Spanning the years 1945 to 1955, a chronicle o...</td>\n",
              "      <td>[{'adult': False, 'gender': 2, 'id': 3084, 'kn...</td>\n",
              "      <td>[{'adult': False, 'gender': 2, 'id': 154, 'kno...</td>\n",
              "    </tr>\n",
              "    <tr>\n",
              "      <th>1</th>\n",
              "      <td>278</td>\n",
              "      <td>The Shawshank Redemption</td>\n",
              "      <td>[Drama, Crime]</td>\n",
              "      <td>[{'id': 378, 'name': 'prison'}, {'id': 417, 'n...</td>\n",
              "      <td>Framed in the 1940s for the double murder of h...</td>\n",
              "      <td>[{'adult': False, 'gender': 2, 'id': 504, 'kno...</td>\n",
              "      <td>[{'adult': False, 'gender': 2, 'id': 153, 'kno...</td>\n",
              "    </tr>\n",
              "    <tr>\n",
              "      <th>2</th>\n",
              "      <td>240</td>\n",
              "      <td>The Godfather Part II</td>\n",
              "      <td>[Drama, Crime]</td>\n",
              "      <td>[{'id': 131, 'name': 'italy'}, {'id': 700, 'na...</td>\n",
              "      <td>In the continuing saga of the Corleone crime f...</td>\n",
              "      <td>[{'adult': False, 'gender': 2, 'id': 1158, 'kn...</td>\n",
              "      <td>[{'adult': False, 'gender': 2, 'id': 154, 'kno...</td>\n",
              "    </tr>\n",
              "    <tr>\n",
              "      <th>3</th>\n",
              "      <td>19404</td>\n",
              "      <td>Dilwale Dulhania Le Jayenge</td>\n",
              "      <td>[Comedy, Drama, Romance]</td>\n",
              "      <td>[]</td>\n",
              "      <td>Raj is a rich, carefree, happy-go-lucky second...</td>\n",
              "      <td>[{'adult': False, 'gender': 2, 'id': 35742, 'k...</td>\n",
              "      <td>[{'adult': False, 'gender': 1, 'id': 8311, 'kn...</td>\n",
              "    </tr>\n",
              "    <tr>\n",
              "      <th>4</th>\n",
              "      <td>424</td>\n",
              "      <td>Schindler's List</td>\n",
              "      <td>[Drama, History, War]</td>\n",
              "      <td>[{'id': 818, 'name': 'based on novel or book'}...</td>\n",
              "      <td>The true story of how businessman Oskar Schind...</td>\n",
              "      <td>[{'adult': False, 'gender': 2, 'id': 3896, 'kn...</td>\n",
              "      <td>[{'adult': False, 'gender': 2, 'id': 491, 'kno...</td>\n",
              "    </tr>\n",
              "  </tbody>\n",
              "</table>\n",
              "</div>\n",
              "      <button class=\"colab-df-convert\" onclick=\"convertToInteractive('df-e351f20b-552d-459f-b10f-fbb422653c5c')\"\n",
              "              title=\"Convert this dataframe to an interactive table.\"\n",
              "              style=\"display:none;\">\n",
              "        \n",
              "  <svg xmlns=\"http://www.w3.org/2000/svg\" height=\"24px\"viewBox=\"0 0 24 24\"\n",
              "       width=\"24px\">\n",
              "    <path d=\"M0 0h24v24H0V0z\" fill=\"none\"/>\n",
              "    <path d=\"M18.56 5.44l.94 2.06.94-2.06 2.06-.94-2.06-.94-.94-2.06-.94 2.06-2.06.94zm-11 1L8.5 8.5l.94-2.06 2.06-.94-2.06-.94L8.5 2.5l-.94 2.06-2.06.94zm10 10l.94 2.06.94-2.06 2.06-.94-2.06-.94-.94-2.06-.94 2.06-2.06.94z\"/><path d=\"M17.41 7.96l-1.37-1.37c-.4-.4-.92-.59-1.43-.59-.52 0-1.04.2-1.43.59L10.3 9.45l-7.72 7.72c-.78.78-.78 2.05 0 2.83L4 21.41c.39.39.9.59 1.41.59.51 0 1.02-.2 1.41-.59l7.78-7.78 2.81-2.81c.8-.78.8-2.07 0-2.86zM5.41 20L4 18.59l7.72-7.72 1.47 1.35L5.41 20z\"/>\n",
              "  </svg>\n",
              "      </button>\n",
              "      \n",
              "  <style>\n",
              "    .colab-df-container {\n",
              "      display:flex;\n",
              "      flex-wrap:wrap;\n",
              "      gap: 12px;\n",
              "    }\n",
              "\n",
              "    .colab-df-convert {\n",
              "      background-color: #E8F0FE;\n",
              "      border: none;\n",
              "      border-radius: 50%;\n",
              "      cursor: pointer;\n",
              "      display: none;\n",
              "      fill: #1967D2;\n",
              "      height: 32px;\n",
              "      padding: 0 0 0 0;\n",
              "      width: 32px;\n",
              "    }\n",
              "\n",
              "    .colab-df-convert:hover {\n",
              "      background-color: #E2EBFA;\n",
              "      box-shadow: 0px 1px 2px rgba(60, 64, 67, 0.3), 0px 1px 3px 1px rgba(60, 64, 67, 0.15);\n",
              "      fill: #174EA6;\n",
              "    }\n",
              "\n",
              "    [theme=dark] .colab-df-convert {\n",
              "      background-color: #3B4455;\n",
              "      fill: #D2E3FC;\n",
              "    }\n",
              "\n",
              "    [theme=dark] .colab-df-convert:hover {\n",
              "      background-color: #434B5C;\n",
              "      box-shadow: 0px 1px 3px 1px rgba(0, 0, 0, 0.15);\n",
              "      filter: drop-shadow(0px 1px 2px rgba(0, 0, 0, 0.3));\n",
              "      fill: #FFFFFF;\n",
              "    }\n",
              "  </style>\n",
              "\n",
              "      <script>\n",
              "        const buttonEl =\n",
              "          document.querySelector('#df-e351f20b-552d-459f-b10f-fbb422653c5c button.colab-df-convert');\n",
              "        buttonEl.style.display =\n",
              "          google.colab.kernel.accessAllowed ? 'block' : 'none';\n",
              "\n",
              "        async function convertToInteractive(key) {\n",
              "          const element = document.querySelector('#df-e351f20b-552d-459f-b10f-fbb422653c5c');\n",
              "          const dataTable =\n",
              "            await google.colab.kernel.invokeFunction('convertToInteractive',\n",
              "                                                     [key], {});\n",
              "          if (!dataTable) return;\n",
              "\n",
              "          const docLinkHtml = 'Like what you see? Visit the ' +\n",
              "            '<a target=\"_blank\" href=https://colab.research.google.com/notebooks/data_table.ipynb>data table notebook</a>'\n",
              "            + ' to learn more about interactive tables.';\n",
              "          element.innerHTML = '';\n",
              "          dataTable['output_type'] = 'display_data';\n",
              "          await google.colab.output.renderOutput(dataTable, element);\n",
              "          const docLink = document.createElement('div');\n",
              "          docLink.innerHTML = docLinkHtml;\n",
              "          element.appendChild(docLink);\n",
              "        }\n",
              "      </script>\n",
              "    </div>\n",
              "  </div>\n",
              "  "
            ]
          },
          "metadata": {},
          "execution_count": 72
        }
      ]
    },
    {
      "cell_type": "code",
      "source": [
        "film['Keywords']=film['Keywords'].apply(convertString1)"
      ],
      "metadata": {
        "id": "2sqS1u0dD4pS"
      },
      "execution_count": 73,
      "outputs": []
    },
    {
      "cell_type": "code",
      "source": [
        "def convertString2(obj):\n",
        "    L =[]\n",
        "    counter=0\n",
        "    for i in ast.literal_eval(obj):\n",
        "        if counter !=3:\n",
        "            L.append(i['name'])\n",
        "            counter+=1\n",
        "    return L"
      ],
      "metadata": {
        "id": "U93jKlHSD9qw"
      },
      "execution_count": 74,
      "outputs": []
    },
    {
      "cell_type": "code",
      "source": [
        "film['Cast']=film['Cast'].apply(convertString2)"
      ],
      "metadata": {
        "id": "z_lS9HRZD_ek"
      },
      "execution_count": 75,
      "outputs": []
    },
    {
      "cell_type": "code",
      "source": [
        "def fetch(obj):\n",
        "    L =[]\n",
        "    for i in ast.literal_eval(obj):\n",
        "        if i['job']==\"Director\":\n",
        "            L.append(i['name'])\n",
        "            break\n",
        "    return L"
      ],
      "metadata": {
        "id": "_4KDZqn1EDIG"
      },
      "execution_count": 76,
      "outputs": []
    },
    {
      "cell_type": "code",
      "source": [
        "film['Crew']=film['Crew'].apply(fetch)"
      ],
      "metadata": {
        "id": "MoYQeKbiEKCb"
      },
      "execution_count": 77,
      "outputs": []
    },
    {
      "cell_type": "code",
      "source": [
        "film['overview']=film['overview'].apply(lambda x: x.split())"
      ],
      "metadata": {
        "id": "y2ZFrhEfEQJf"
      },
      "execution_count": 78,
      "outputs": []
    },
    {
      "cell_type": "code",
      "source": [
        "\n",
        "film['Genres']=film['Genres'].apply(lambda x : [i.replace(\" \",\"\")for i in x])\n",
        "film['Keywords']=film['Keywords'].apply(lambda x : [i.replace(\" \",\"\")for i in x])\n",
        "film['Cast']=film['Cast'].apply(lambda x : [i.replace(\" \",\"\")for i in x])\n",
        "film['Crew']=film['Crew'].apply(lambda x : [i.replace(\" \",\"\")for i in x])"
      ],
      "metadata": {
        "id": "VxCqK_hBEe4V"
      },
      "execution_count": 79,
      "outputs": []
    },
    {
      "cell_type": "markdown",
      "source": [
        "Penambahan kolom 'tags' dalam dataset yang berisi gabungan dari kolom *'Genres','Keywords','Cast','Crew','overview'* untuk proses penghitungan kata dalam algoritma *Bag of Words*"
      ],
      "metadata": {
        "id": "jxIWMenXJ0vY"
      }
    },
    {
      "cell_type": "code",
      "source": [
        "film['tags']= film['Genres'] + film['Keywords'] + film['Cast'] + film['Crew'] + film['overview']\n"
      ],
      "metadata": {
        "id": "QglF4BM6Eq-V"
      },
      "execution_count": 80,
      "outputs": []
    },
    {
      "cell_type": "code",
      "source": [
        "film.head(5)"
      ],
      "metadata": {
        "colab": {
          "base_uri": "https://localhost:8080/",
          "height": 320
        },
        "id": "2DpjpOhGIffe",
        "outputId": "e17ddc85-47b3-4123-bbbd-6f284d55e443"
      },
      "execution_count": 81,
      "outputs": [
        {
          "output_type": "execute_result",
          "data": {
            "text/plain": [
              "   Movie_id                        title                    Genres  \\\n",
              "0       238                The Godfather            [Drama, Crime]   \n",
              "1       278     The Shawshank Redemption            [Drama, Crime]   \n",
              "2       240        The Godfather Part II            [Drama, Crime]   \n",
              "3     19404  Dilwale Dulhania Le Jayenge  [Comedy, Drama, Romance]   \n",
              "4       424             Schindler's List     [Drama, History, War]   \n",
              "\n",
              "                                            Keywords  \\\n",
              "0  [italy, lossoflovedone, loveatfirstsight, base...   \n",
              "1  [prison, corruption, policebrutality, basedonn...   \n",
              "2  [italy, italianamerican, cuba, symbolism, gang...   \n",
              "3                                                 []   \n",
              "4  [basedonnovelorbook, factory, concentrationcam...   \n",
              "\n",
              "                                            overview  \\\n",
              "0  [Spanning, the, years, 1945, to, 1955,, a, chr...   \n",
              "1  [Framed, in, the, 1940s, for, the, double, mur...   \n",
              "2  [In, the, continuing, saga, of, the, Corleone,...   \n",
              "3  [Raj, is, a, rich,, carefree,, happy-go-lucky,...   \n",
              "4  [The, true, story, of, how, businessman, Oskar...   \n",
              "\n",
              "                                      Cast                  Crew  \\\n",
              "0      [MarlonBrando, AlPacino, JamesCaan]  [FrancisFordCoppola]   \n",
              "1   [TimRobbins, MorganFreeman, BobGunton]       [FrankDarabont]   \n",
              "2    [AlPacino, RobertDuvall, DianeKeaton]  [FrancisFordCoppola]   \n",
              "3        [ShahRukhKhan, Kajol, AmrishPuri]        [AdityaChopra]   \n",
              "4  [LiamNeeson, BenKingsley, RalphFiennes]     [StevenSpielberg]   \n",
              "\n",
              "                                                tags  \n",
              "0  [Drama, Crime, italy, lossoflovedone, loveatfi...  \n",
              "1  [Drama, Crime, prison, corruption, policebruta...  \n",
              "2  [Drama, Crime, italy, italianamerican, cuba, s...  \n",
              "3  [Comedy, Drama, Romance, ShahRukhKhan, Kajol, ...  \n",
              "4  [Drama, History, War, basedonnovelorbook, fact...  "
            ],
            "text/html": [
              "\n",
              "  <div id=\"df-0c7d8120-2825-430d-b003-a1eca9ccde24\">\n",
              "    <div class=\"colab-df-container\">\n",
              "      <div>\n",
              "<style scoped>\n",
              "    .dataframe tbody tr th:only-of-type {\n",
              "        vertical-align: middle;\n",
              "    }\n",
              "\n",
              "    .dataframe tbody tr th {\n",
              "        vertical-align: top;\n",
              "    }\n",
              "\n",
              "    .dataframe thead th {\n",
              "        text-align: right;\n",
              "    }\n",
              "</style>\n",
              "<table border=\"1\" class=\"dataframe\">\n",
              "  <thead>\n",
              "    <tr style=\"text-align: right;\">\n",
              "      <th></th>\n",
              "      <th>Movie_id</th>\n",
              "      <th>title</th>\n",
              "      <th>Genres</th>\n",
              "      <th>Keywords</th>\n",
              "      <th>overview</th>\n",
              "      <th>Cast</th>\n",
              "      <th>Crew</th>\n",
              "      <th>tags</th>\n",
              "    </tr>\n",
              "  </thead>\n",
              "  <tbody>\n",
              "    <tr>\n",
              "      <th>0</th>\n",
              "      <td>238</td>\n",
              "      <td>The Godfather</td>\n",
              "      <td>[Drama, Crime]</td>\n",
              "      <td>[italy, lossoflovedone, loveatfirstsight, base...</td>\n",
              "      <td>[Spanning, the, years, 1945, to, 1955,, a, chr...</td>\n",
              "      <td>[MarlonBrando, AlPacino, JamesCaan]</td>\n",
              "      <td>[FrancisFordCoppola]</td>\n",
              "      <td>[Drama, Crime, italy, lossoflovedone, loveatfi...</td>\n",
              "    </tr>\n",
              "    <tr>\n",
              "      <th>1</th>\n",
              "      <td>278</td>\n",
              "      <td>The Shawshank Redemption</td>\n",
              "      <td>[Drama, Crime]</td>\n",
              "      <td>[prison, corruption, policebrutality, basedonn...</td>\n",
              "      <td>[Framed, in, the, 1940s, for, the, double, mur...</td>\n",
              "      <td>[TimRobbins, MorganFreeman, BobGunton]</td>\n",
              "      <td>[FrankDarabont]</td>\n",
              "      <td>[Drama, Crime, prison, corruption, policebruta...</td>\n",
              "    </tr>\n",
              "    <tr>\n",
              "      <th>2</th>\n",
              "      <td>240</td>\n",
              "      <td>The Godfather Part II</td>\n",
              "      <td>[Drama, Crime]</td>\n",
              "      <td>[italy, italianamerican, cuba, symbolism, gang...</td>\n",
              "      <td>[In, the, continuing, saga, of, the, Corleone,...</td>\n",
              "      <td>[AlPacino, RobertDuvall, DianeKeaton]</td>\n",
              "      <td>[FrancisFordCoppola]</td>\n",
              "      <td>[Drama, Crime, italy, italianamerican, cuba, s...</td>\n",
              "    </tr>\n",
              "    <tr>\n",
              "      <th>3</th>\n",
              "      <td>19404</td>\n",
              "      <td>Dilwale Dulhania Le Jayenge</td>\n",
              "      <td>[Comedy, Drama, Romance]</td>\n",
              "      <td>[]</td>\n",
              "      <td>[Raj, is, a, rich,, carefree,, happy-go-lucky,...</td>\n",
              "      <td>[ShahRukhKhan, Kajol, AmrishPuri]</td>\n",
              "      <td>[AdityaChopra]</td>\n",
              "      <td>[Comedy, Drama, Romance, ShahRukhKhan, Kajol, ...</td>\n",
              "    </tr>\n",
              "    <tr>\n",
              "      <th>4</th>\n",
              "      <td>424</td>\n",
              "      <td>Schindler's List</td>\n",
              "      <td>[Drama, History, War]</td>\n",
              "      <td>[basedonnovelorbook, factory, concentrationcam...</td>\n",
              "      <td>[The, true, story, of, how, businessman, Oskar...</td>\n",
              "      <td>[LiamNeeson, BenKingsley, RalphFiennes]</td>\n",
              "      <td>[StevenSpielberg]</td>\n",
              "      <td>[Drama, History, War, basedonnovelorbook, fact...</td>\n",
              "    </tr>\n",
              "  </tbody>\n",
              "</table>\n",
              "</div>\n",
              "      <button class=\"colab-df-convert\" onclick=\"convertToInteractive('df-0c7d8120-2825-430d-b003-a1eca9ccde24')\"\n",
              "              title=\"Convert this dataframe to an interactive table.\"\n",
              "              style=\"display:none;\">\n",
              "        \n",
              "  <svg xmlns=\"http://www.w3.org/2000/svg\" height=\"24px\"viewBox=\"0 0 24 24\"\n",
              "       width=\"24px\">\n",
              "    <path d=\"M0 0h24v24H0V0z\" fill=\"none\"/>\n",
              "    <path d=\"M18.56 5.44l.94 2.06.94-2.06 2.06-.94-2.06-.94-.94-2.06-.94 2.06-2.06.94zm-11 1L8.5 8.5l.94-2.06 2.06-.94-2.06-.94L8.5 2.5l-.94 2.06-2.06.94zm10 10l.94 2.06.94-2.06 2.06-.94-2.06-.94-.94-2.06-.94 2.06-2.06.94z\"/><path d=\"M17.41 7.96l-1.37-1.37c-.4-.4-.92-.59-1.43-.59-.52 0-1.04.2-1.43.59L10.3 9.45l-7.72 7.72c-.78.78-.78 2.05 0 2.83L4 21.41c.39.39.9.59 1.41.59.51 0 1.02-.2 1.41-.59l7.78-7.78 2.81-2.81c.8-.78.8-2.07 0-2.86zM5.41 20L4 18.59l7.72-7.72 1.47 1.35L5.41 20z\"/>\n",
              "  </svg>\n",
              "      </button>\n",
              "      \n",
              "  <style>\n",
              "    .colab-df-container {\n",
              "      display:flex;\n",
              "      flex-wrap:wrap;\n",
              "      gap: 12px;\n",
              "    }\n",
              "\n",
              "    .colab-df-convert {\n",
              "      background-color: #E8F0FE;\n",
              "      border: none;\n",
              "      border-radius: 50%;\n",
              "      cursor: pointer;\n",
              "      display: none;\n",
              "      fill: #1967D2;\n",
              "      height: 32px;\n",
              "      padding: 0 0 0 0;\n",
              "      width: 32px;\n",
              "    }\n",
              "\n",
              "    .colab-df-convert:hover {\n",
              "      background-color: #E2EBFA;\n",
              "      box-shadow: 0px 1px 2px rgba(60, 64, 67, 0.3), 0px 1px 3px 1px rgba(60, 64, 67, 0.15);\n",
              "      fill: #174EA6;\n",
              "    }\n",
              "\n",
              "    [theme=dark] .colab-df-convert {\n",
              "      background-color: #3B4455;\n",
              "      fill: #D2E3FC;\n",
              "    }\n",
              "\n",
              "    [theme=dark] .colab-df-convert:hover {\n",
              "      background-color: #434B5C;\n",
              "      box-shadow: 0px 1px 3px 1px rgba(0, 0, 0, 0.15);\n",
              "      filter: drop-shadow(0px 1px 2px rgba(0, 0, 0, 0.3));\n",
              "      fill: #FFFFFF;\n",
              "    }\n",
              "  </style>\n",
              "\n",
              "      <script>\n",
              "        const buttonEl =\n",
              "          document.querySelector('#df-0c7d8120-2825-430d-b003-a1eca9ccde24 button.colab-df-convert');\n",
              "        buttonEl.style.display =\n",
              "          google.colab.kernel.accessAllowed ? 'block' : 'none';\n",
              "\n",
              "        async function convertToInteractive(key) {\n",
              "          const element = document.querySelector('#df-0c7d8120-2825-430d-b003-a1eca9ccde24');\n",
              "          const dataTable =\n",
              "            await google.colab.kernel.invokeFunction('convertToInteractive',\n",
              "                                                     [key], {});\n",
              "          if (!dataTable) return;\n",
              "\n",
              "          const docLinkHtml = 'Like what you see? Visit the ' +\n",
              "            '<a target=\"_blank\" href=https://colab.research.google.com/notebooks/data_table.ipynb>data table notebook</a>'\n",
              "            + ' to learn more about interactive tables.';\n",
              "          element.innerHTML = '';\n",
              "          dataTable['output_type'] = 'display_data';\n",
              "          await google.colab.output.renderOutput(dataTable, element);\n",
              "          const docLink = document.createElement('div');\n",
              "          docLink.innerHTML = docLinkHtml;\n",
              "          element.appendChild(docLink);\n",
              "        }\n",
              "      </script>\n",
              "    </div>\n",
              "  </div>\n",
              "  "
            ]
          },
          "metadata": {},
          "execution_count": 81
        }
      ]
    },
    {
      "cell_type": "code",
      "source": [
        "df = film[['Movie_id','title','tags']]"
      ],
      "metadata": {
        "id": "Mw9sciImIh8Q"
      },
      "execution_count": 82,
      "outputs": []
    },
    {
      "cell_type": "code",
      "source": [
        "df['tags']=df['tags'].apply(lambda x: \" \".join(x))\n",
        "df['tags']=df['tags'].apply(lambda x: x.lower())"
      ],
      "metadata": {
        "id": "j_Bq2NLuIogr"
      },
      "execution_count": 83,
      "outputs": []
    },
    {
      "cell_type": "markdown",
      "source": [
        "# Visualisasi Data\n",
        "Grafik berikut menunjukan 15 film terpopuler yang ada dalam dataset"
      ],
      "metadata": {
        "id": "y7K1Uo7jPlYi"
      }
    },
    {
      "cell_type": "code",
      "source": [
        "pop= dataFilm.sort_values('popularity', ascending=False)\n",
        "plt.figure(figsize=(15,4))\n",
        "\n",
        "plt.barh(pop['title'].head(15),pop['popularity'].head(15), align='center', color='blue')\n",
        "plt.gca().invert_yaxis()\n",
        "plt.xlabel(\"Popularity\")\n",
        "plt.title(\"Film Terpopuler\")"
      ],
      "metadata": {
        "colab": {
          "base_uri": "https://localhost:8080/",
          "height": 312
        },
        "id": "2tlnqIdSuV_M",
        "outputId": "eb360ea4-ec94-4360-aa60-624392b7de67"
      },
      "execution_count": 84,
      "outputs": [
        {
          "output_type": "execute_result",
          "data": {
            "text/plain": [
              "Text(0.5, 1.0, 'Film Terpopuler')"
            ]
          },
          "metadata": {},
          "execution_count": 84
        },
        {
          "output_type": "display_data",
          "data": {
            "text/plain": [
              "<Figure size 1080x288 with 1 Axes>"
            ],
            "image/png": "[encoded data removed]"
          },
          "metadata": {
            "needs_background": "light"
          }
        }
      ]
    },
    {
      "cell_type": "markdown",
      "source": [
        "##Modeling\n",
        "Proses pembuatan sistem rekomendasi menggunakan metode pendekatan content based filtering. Pada model ini, akan digunakan TF-IDF Vectorizer. Teknik tersebut berfungsi untuk menemukan fitur penting dari setiap kategori penting."
      ],
      "metadata": {
        "id": "EESGGdny4Cg1"
      }
    },
    {
      "cell_type": "markdown",
      "source": [
        "#Stemming\n",
        "Melakukan penghapusan beberapa akhir karakter dalam sebuah kata."
      ],
      "metadata": {
        "id": "uKqJkC7g61WH"
      }
    },
    {
      "cell_type": "code",
      "source": [
        "nltk.download('wordnet')\n",
        "ps = PorterStemmer()"
      ],
      "metadata": {
        "colab": {
          "base_uri": "https://localhost:8080/"
        },
        "id": "Aj0XKKoTIyaG",
        "outputId": "72906cc3-43fa-447c-aded-26a508f640da"
      },
      "execution_count": 85,
      "outputs": [
        {
          "output_type": "stream",
          "name": "stderr",
          "text": [
            "[nltk_data] Downloading package wordnet to /root/nltk_data...\n",
            "[nltk_data]   Package wordnet is already up-to-date!\n"
          ]
        }
      ]
    },
    {
      "cell_type": "code",
      "source": [
        "def stemming(text):\n",
        "    y=[]\n",
        "    for i in text.split():\n",
        "        y.append (ps.stem(i))\n",
        "    return \" \".join(y)\n",
        "\n"
      ],
      "metadata": {
        "id": "JgnZWlLorcZt"
      },
      "execution_count": 86,
      "outputs": []
    },
    {
      "cell_type": "code",
      "source": [
        "#lemmitization\n",
        "df['tags1']=df['tags'].apply(stemming)\n",
        "#porter_steammer\n",
        "df['tags']=df['tags'].apply(stemming)"
      ],
      "metadata": {
        "id": "BTPuMJ4puDVe"
      },
      "execution_count": 87,
      "outputs": []
    },
    {
      "cell_type": "markdown",
      "source": [
        "Melakukan CounterVectorizer dengan porterSteamer"
      ],
      "metadata": {
        "id": "ph4G21xb5y4N"
      }
    },
    {
      "cell_type": "code",
      "source": [
        "\n",
        "countVect= CountVectorizer(max_features=8000, stop_words=\"english\")\n",
        "vector=countVect.fit_transform(df['tags']).toarray()\n",
        "#cek nama fitur random\n",
        "countVect.get_feature_names()[1200]"
      ],
      "metadata": {
        "colab": {
          "base_uri": "https://localhost:8080/",
          "height": 36
        },
        "id": "ZYiTHSlNvOrT",
        "outputId": "20b3cd46-360e-474a-fe27-ec771a6b257e"
      },
      "execution_count": 88,
      "outputs": [
        {
          "output_type": "execute_result",
          "data": {
            "text/plain": [
              "'charltonheston'"
            ],
            "application/vnd.google.colaboratory.intrinsic+json": {
              "type": "string"
            }
          },
          "metadata": {},
          "execution_count": 88
        }
      ]
    },
    {
      "cell_type": "markdown",
      "source": [
        "melakukan proses TFIDF menggunakan lemmitization"
      ],
      "metadata": {
        "id": "9nOH3aQj5_E1"
      }
    },
    {
      "cell_type": "code",
      "source": [
        "tfVect=TfidfVectorizer(max_features=7000,analyzer='word',stop_words=\"english\")\n",
        "tfdf_features=tfVect.fit_transform(df['tags1'])\n",
        "tfVect.get_feature_names_out()[1322] "
      ],
      "metadata": {
        "colab": {
          "base_uri": "https://localhost:8080/",
          "height": 36
        },
        "id": "crttsw1lvS3x",
        "outputId": "fcfb3fd6-9c47-4dd3-f416-a5cb9aea6406"
      },
      "execution_count": 89,
      "outputs": [
        {
          "output_type": "execute_result",
          "data": {
            "text/plain": [
              "'command'"
            ],
            "application/vnd.google.colaboratory.intrinsic+json": {
              "type": "string"
            }
          },
          "metadata": {},
          "execution_count": 89
        }
      ]
    },
    {
      "cell_type": "markdown",
      "source": [
        "Proses transformasi data untuk mengubah data ke dalam bentuk matriks"
      ],
      "metadata": {
        "id": "RKfND91E6I1f"
      }
    },
    {
      "cell_type": "code",
      "source": [
        "dataFilm['overview'] = dataFilm['overview'].fillna('')\n",
        "tfidf_matrix = tfVect.fit_transform(dataFilm['overview'])\n",
        "tfidf_matrix.shape"
      ],
      "metadata": {
        "colab": {
          "base_uri": "https://localhost:8080/"
        },
        "id": "pm3NuGcwySdb",
        "outputId": "7de7ab18-5b6a-48e8-a7c4-f1e828170999"
      },
      "execution_count": 90,
      "outputs": [
        {
          "output_type": "execute_result",
          "data": {
            "text/plain": [
              "(9980, 7000)"
            ]
          },
          "metadata": {},
          "execution_count": 90
        }
      ]
    },
    {
      "cell_type": "markdown",
      "source": [
        "Kemudian untuk menghasilkan vektor tf-idf dalam bentuk matriks kita akan memanggil fungsi todense()"
      ],
      "metadata": {
        "id": "0Rb8vscS6bqt"
      }
    },
    {
      "cell_type": "code",
      "source": [
        "tfidf_matrix.todense()"
      ],
      "metadata": {
        "colab": {
          "base_uri": "https://localhost:8080/"
        },
        "id": "GP3q9NVzy-pi",
        "outputId": "7450113f-8354-49e2-a855-3db49efdb25c"
      },
      "execution_count": 91,
      "outputs": [
        {
          "output_type": "execute_result",
          "data": {
            "text/plain": [
              "matrix([[0., 0., 0., ..., 0., 0., 0.],\n",
              "        [0., 0., 0., ..., 0., 0., 0.],\n",
              "        [0., 0., 0., ..., 0., 0., 0.],\n",
              "        ...,\n",
              "        [0., 0., 0., ..., 0., 0., 0.],\n",
              "        [0., 0., 0., ..., 0., 0., 0.],\n",
              "        [0., 0., 0., ..., 0., 0., 0.]])"
            ]
          },
          "metadata": {},
          "execution_count": 91
        }
      ]
    },
    {
      "cell_type": "code",
      "source": [
        "tfidf_matrix"
      ],
      "metadata": {
        "colab": {
          "base_uri": "https://localhost:8080/"
        },
        "id": "ZWSXzasCzO5Q",
        "outputId": "78e3c8eb-af5e-47b4-d5d0-5226f7c9dcf5"
      },
      "execution_count": 92,
      "outputs": [
        {
          "output_type": "execute_result",
          "data": {
            "text/plain": [
              "<9980x7000 sparse matrix of type '<class 'numpy.float64'>'\n",
              "\twith 199736 stored elements in Compressed Sparse Row format>"
            ]
          },
          "metadata": {},
          "execution_count": 92
        }
      ]
    },
    {
      "cell_type": "markdown",
      "source": [
        "#Cosine Similarity\n",
        "Pada tahap ini, akan dipanggil fungsi cosine_similarity() yang berfungsi untuk menghitung derajat kesamaan."
      ],
      "metadata": {
        "id": "zuaGi5f16vws"
      }
    },
    {
      "cell_type": "code",
      "source": [
        " \n",
        "cosine_sim = cosine_similarity(tfidf_matrix) \n",
        "cosine_sim"
      ],
      "metadata": {
        "colab": {
          "base_uri": "https://localhost:8080/"
        },
        "id": "7V5TkXXtvXCu",
        "outputId": "78250b9d-05ef-40c3-c966-6575b1f30740"
      },
      "execution_count": 93,
      "outputs": [
        {
          "output_type": "execute_result",
          "data": {
            "text/plain": [
              "array([[1.        , 0.00681656, 0.43532658, ..., 0.01219453, 0.00350699,\n",
              "        0.12261519],\n",
              "       [0.00681656, 1.        , 0.00793684, ..., 0.01158056, 0.01275244,\n",
              "        0.        ],\n",
              "       [0.43532658, 0.00793684, 1.        , ..., 0.02258194, 0.        ,\n",
              "        0.05830917],\n",
              "       ...,\n",
              "       [0.01219453, 0.01158056, 0.02258194, ..., 1.        , 0.00696861,\n",
              "        0.03519705],\n",
              "       [0.00350699, 0.01275244, 0.        , ..., 0.00696861, 1.        ,\n",
              "        0.        ],\n",
              "       [0.12261519, 0.        , 0.05830917, ..., 0.03519705, 0.        ,\n",
              "        1.        ]])"
            ]
          },
          "metadata": {},
          "execution_count": 93
        }
      ]
    },
    {
      "cell_type": "code",
      "source": [
        "similarity = cosine_similarity(vector)"
      ],
      "metadata": {
        "id": "ayDAvAOO1d86"
      },
      "execution_count": 94,
      "outputs": []
    },
    {
      "cell_type": "code",
      "source": [
        "df[df['title']=='Avatar'].index[0]"
      ],
      "metadata": {
        "colab": {
          "base_uri": "https://localhost:8080/"
        },
        "id": "ORhS3xzQ10Zc",
        "outputId": "1dbedaf8-6a02-4b05-84c7-b2f4f29a1f63"
      },
      "execution_count": 95,
      "outputs": [
        {
          "output_type": "execute_result",
          "data": {
            "text/plain": [
              "1266"
            ]
          },
          "metadata": {},
          "execution_count": 95
        }
      ]
    },
    {
      "cell_type": "code",
      "source": [
        "indices = pd.Series(dataFilm.index, index=dataFilm['title']).drop_duplicates()"
      ],
      "metadata": {
        "id": "6KmmkNpWzSfS"
      },
      "execution_count": 96,
      "outputs": []
    },
    {
      "cell_type": "code",
      "source": [
        "cosine_sim_df = pd.DataFrame(cosine_sim, index=dataFilm['title'], columns=dataFilm['title'])\n",
        "print('Shape:', cosine_sim_df.shape)"
      ],
      "metadata": {
        "colab": {
          "base_uri": "https://localhost:8080/"
        },
        "id": "gH4gk-ojzxsD",
        "outputId": "63324c7f-8f76-4d00-ff9d-a70f69e22448"
      },
      "execution_count": 97,
      "outputs": [
        {
          "output_type": "stream",
          "name": "stdout",
          "text": [
            "Shape: (9980, 9980)\n"
          ]
        }
      ]
    },
    {
      "cell_type": "markdown",
      "source": [
        "Algoritma model dengan Bag of Words"
      ],
      "metadata": {
        "id": "nCpOsY2CEuh-"
      }
    },
    {
      "cell_type": "code",
      "source": [
        "def reccomendBoW(movie):\n",
        "    movie_index=df[df['title']==movie].index[0]\n",
        "    distance=similarity[movie_index]\n",
        "    movies_list=sorted(list(enumerate(distance)), reverse=True, key=lambda x : x[1])[1:17]\n",
        "    \n",
        "    for i in movies_list:\n",
        "        print(df.iloc[i[0]].title)\n",
        "    "
      ],
      "metadata": {
        "id": "EPTnMNYm0P0K"
      },
      "execution_count": 98,
      "outputs": []
    },
    {
      "cell_type": "code",
      "source": [
        "reccomendBoW('Batman Begins')\n"
      ],
      "metadata": {
        "colab": {
          "base_uri": "https://localhost:8080/"
        },
        "id": "KC6ZiO1O18Cr",
        "outputId": "d914347e-5979-4103-ad6b-ac2ab7bbf876"
      },
      "execution_count": 99,
      "outputs": [
        {
          "output_type": "stream",
          "name": "stdout",
          "text": [
            "The Dark Knight\n",
            "The Batman\n",
            "Batman: Bad Blood\n",
            "Batman\n",
            "The Raid 2\n",
            "Batman: Under the Red Hood\n",
            "Spider-Man: Homecoming\n",
            "Don\n",
            "The Dark Knight Rises\n",
            "Pain and Glory\n",
            "The Heir Apparent: Largo Winch\n",
            "Sorry If I Call You Love\n",
            "Batman: Gotham by Gaslight\n",
            "Batman: The Dark Knight Returns, Part 1\n",
            "Twelve\n",
            "Sound of Metal\n"
          ]
        }
      ]
    },
    {
      "cell_type": "markdown",
      "source": [
        "Algroitma model dengan Content Based Filtering \n"
      ],
      "metadata": {
        "id": "ck2vPEASEy_8"
      }
    },
    {
      "cell_type": "code",
      "source": [
        "def reccomendCBF(movie, similarity_data=cosine_sim_df, items=dataFilm[['title',]], k=15):\n",
        "\n",
        "    index = similarity_data.loc[:,movie].to_numpy().argpartition(range(-1, -k, -1))\n",
        "\n",
        "    closest = similarity_data.columns[index[-1:-(k+2):-1]]\n",
        "    \n",
        "    closest = closest.drop(movie, errors='ignore')\n",
        " \n",
        "    return pd.DataFrame(closest).merge(items)"
      ],
      "metadata": {
        "id": "QK8kBxrqz5pw"
      },
      "execution_count": 100,
      "outputs": []
    },
    {
      "cell_type": "code",
      "source": [
        "reccomendCBF('Batman Begins')"
      ],
      "metadata": {
        "colab": {
          "base_uri": "https://localhost:8080/",
          "height": 551
        },
        "id": "WoLOw9La0CVy",
        "outputId": "98d7461d-d0c8-4b46-d4cd-7ec59f946ddb"
      },
      "execution_count": 101,
      "outputs": [
        {
          "output_type": "execute_result",
          "data": {
            "text/plain": [
              "                                      title\n",
              "0                         Batman: Bad Blood\n",
              "1   Batman: The Dark Knight Returns, Part 1\n",
              "2              Batman: Mask of the Phantasm\n",
              "3                                The Batman\n",
              "4                                    Batman\n",
              "5                                    Batman\n",
              "6                          Batman: Year One\n",
              "7                     The Lego Batman Movie\n",
              "8                              Batman: Hush\n",
              "9                Batman: Gotham by Gaslight\n",
              "10                    Batman: Gotham Knight\n",
              "11          Batman: Mystery of the Batwoman\n",
              "12                            Wayne's World\n",
              "13               Batman: Under the Red Hood\n",
              "14                    The Dark Knight Rises\n",
              "15     Batman: The Long Halloween, Part Two"
            ],
            "text/html": [
              "\n",
              "  <div id=\"df-7a2fdfc8-0dd5-4b51-a61b-87e27aa43dc3\">\n",
              "    <div class=\"colab-df-container\">\n",
              "      <div>\n",
              "<style scoped>\n",
              "    .dataframe tbody tr th:only-of-type {\n",
              "        vertical-align: middle;\n",
              "    }\n",
              "\n",
              "    .dataframe tbody tr th {\n",
              "        vertical-align: top;\n",
              "    }\n",
              "\n",
              "    .dataframe thead th {\n",
              "        text-align: right;\n",
              "    }\n",
              "</style>\n",
              "<table border=\"1\" class=\"dataframe\">\n",
              "  <thead>\n",
              "    <tr style=\"text-align: right;\">\n",
              "      <th></th>\n",
              "      <th>title</th>\n",
              "    </tr>\n",
              "  </thead>\n",
              "  <tbody>\n",
              "    <tr>\n",
              "      <th>0</th>\n",
              "      <td>Batman: Bad Blood</td>\n",
              "    </tr>\n",
              "    <tr>\n",
              "      <th>1</th>\n",
              "      <td>Batman: The Dark Knight Returns, Part 1</td>\n",
              "    </tr>\n",
              "    <tr>\n",
              "      <th>2</th>\n",
              "      <td>Batman: Mask of the Phantasm</td>\n",
              "    </tr>\n",
              "    <tr>\n",
              "      <th>3</th>\n",
              "      <td>The Batman</td>\n",
              "    </tr>\n",
              "    <tr>\n",
              "      <th>4</th>\n",
              "      <td>Batman</td>\n",
              "    </tr>\n",
              "    <tr>\n",
              "      <th>5</th>\n",
              "      <td>Batman</td>\n",
              "    </tr>\n",
              "    <tr>\n",
              "      <th>6</th>\n",
              "      <td>Batman: Year One</td>\n",
              "    </tr>\n",
              "    <tr>\n",
              "      <th>7</th>\n",
              "      <td>The Lego Batman Movie</td>\n",
              "    </tr>\n",
              "    <tr>\n",
              "      <th>8</th>\n",
              "      <td>Batman: Hush</td>\n",
              "    </tr>\n",
              "    <tr>\n",
              "      <th>9</th>\n",
              "      <td>Batman: Gotham by Gaslight</td>\n",
              "    </tr>\n",
              "    <tr>\n",
              "      <th>10</th>\n",
              "      <td>Batman: Gotham Knight</td>\n",
              "    </tr>\n",
              "    <tr>\n",
              "      <th>11</th>\n",
              "      <td>Batman: Mystery of the Batwoman</td>\n",
              "    </tr>\n",
              "    <tr>\n",
              "      <th>12</th>\n",
              "      <td>Wayne's World</td>\n",
              "    </tr>\n",
              "    <tr>\n",
              "      <th>13</th>\n",
              "      <td>Batman: Under the Red Hood</td>\n",
              "    </tr>\n",
              "    <tr>\n",
              "      <th>14</th>\n",
              "      <td>The Dark Knight Rises</td>\n",
              "    </tr>\n",
              "    <tr>\n",
              "      <th>15</th>\n",
              "      <td>Batman: The Long Halloween, Part Two</td>\n",
              "    </tr>\n",
              "  </tbody>\n",
              "</table>\n",
              "</div>\n",
              "      <button class=\"colab-df-convert\" onclick=\"convertToInteractive('df-7a2fdfc8-0dd5-4b51-a61b-87e27aa43dc3')\"\n",
              "              title=\"Convert this dataframe to an interactive table.\"\n",
              "              style=\"display:none;\">\n",
              "        \n",
              "  <svg xmlns=\"http://www.w3.org/2000/svg\" height=\"24px\"viewBox=\"0 0 24 24\"\n",
              "       width=\"24px\">\n",
              "    <path d=\"M0 0h24v24H0V0z\" fill=\"none\"/>\n",
              "    <path d=\"M18.56 5.44l.94 2.06.94-2.06 2.06-.94-2.06-.94-.94-2.06-.94 2.06-2.06.94zm-11 1L8.5 8.5l.94-2.06 2.06-.94-2.06-.94L8.5 2.5l-.94 2.06-2.06.94zm10 10l.94 2.06.94-2.06 2.06-.94-2.06-.94-.94-2.06-.94 2.06-2.06.94z\"/><path d=\"M17.41 7.96l-1.37-1.37c-.4-.4-.92-.59-1.43-.59-.52 0-1.04.2-1.43.59L10.3 9.45l-7.72 7.72c-.78.78-.78 2.05 0 2.83L4 21.41c.39.39.9.59 1.41.59.51 0 1.02-.2 1.41-.59l7.78-7.78 2.81-2.81c.8-.78.8-2.07 0-2.86zM5.41 20L4 18.59l7.72-7.72 1.47 1.35L5.41 20z\"/>\n",
              "  </svg>\n",
              "      </button>\n",
              "      \n",
              "  <style>\n",
              "    .colab-df-container {\n",
              "      display:flex;\n",
              "      flex-wrap:wrap;\n",
              "      gap: 12px;\n",
              "    }\n",
              "\n",
              "    .colab-df-convert {\n",
              "      background-color: #E8F0FE;\n",
              "      border: none;\n",
              "      border-radius: 50%;\n",
              "      cursor: pointer;\n",
              "      display: none;\n",
              "      fill: #1967D2;\n",
              "      height: 32px;\n",
              "      padding: 0 0 0 0;\n",
              "      width: 32px;\n",
              "    }\n",
              "\n",
              "    .colab-df-convert:hover {\n",
              "      background-color: #E2EBFA;\n",
              "      box-shadow: 0px 1px 2px rgba(60, 64, 67, 0.3), 0px 1px 3px 1px rgba(60, 64, 67, 0.15);\n",
              "      fill: #174EA6;\n",
              "    }\n",
              "\n",
              "    [theme=dark] .colab-df-convert {\n",
              "      background-color: #3B4455;\n",
              "      fill: #D2E3FC;\n",
              "    }\n",
              "\n",
              "    [theme=dark] .colab-df-convert:hover {\n",
              "      background-color: #434B5C;\n",
              "      box-shadow: 0px 1px 3px 1px rgba(0, 0, 0, 0.15);\n",
              "      filter: drop-shadow(0px 1px 2px rgba(0, 0, 0, 0.3));\n",
              "      fill: #FFFFFF;\n",
              "    }\n",
              "  </style>\n",
              "\n",
              "      <script>\n",
              "        const buttonEl =\n",
              "          document.querySelector('#df-7a2fdfc8-0dd5-4b51-a61b-87e27aa43dc3 button.colab-df-convert');\n",
              "        buttonEl.style.display =\n",
              "          google.colab.kernel.accessAllowed ? 'block' : 'none';\n",
              "\n",
              "        async function convertToInteractive(key) {\n",
              "          const element = document.querySelector('#df-7a2fdfc8-0dd5-4b51-a61b-87e27aa43dc3');\n",
              "          const dataTable =\n",
              "            await google.colab.kernel.invokeFunction('convertToInteractive',\n",
              "                                                     [key], {});\n",
              "          if (!dataTable) return;\n",
              "\n",
              "          const docLinkHtml = 'Like what you see? Visit the ' +\n",
              "            '<a target=\"_blank\" href=https://colab.research.google.com/notebooks/data_table.ipynb>data table notebook</a>'\n",
              "            + ' to learn more about interactive tables.';\n",
              "          element.innerHTML = '';\n",
              "          dataTable['output_type'] = 'display_data';\n",
              "          await google.colab.output.renderOutput(dataTable, element);\n",
              "          const docLink = document.createElement('div');\n",
              "          docLink.innerHTML = docLinkHtml;\n",
              "          element.appendChild(docLink);\n",
              "        }\n",
              "      </script>\n",
              "    </div>\n",
              "  </div>\n",
              "  "
            ]
          },
          "metadata": {},
          "execution_count": 101
        }
      ]
    },
    {
      "cell_type": "code",
      "source": [],
      "metadata": {
        "id": "dxYCX_YP1ZP6"
      },
      "execution_count": 101,
      "outputs": []
    }
  ]
}